{
 "cells": [
  {
   "cell_type": "code",
   "execution_count": 0,
   "metadata": {
    "application/vnd.databricks.v1+cell": {
     "cellMetadata": {
      "byteLimit": 2048000,
      "rowLimit": 10000
     },
     "inputWidgets": {},
     "nuid": "ad249dba-ff8e-4426-8501-79cf27b1b722",
     "showTitle": false,
     "title": ""
    }
   },
   "outputs": [
    {
     "output_type": "stream",
     "name": "stdout",
     "output_type": "stream",
     "text": [
      "Python interpreter will be restarted.\nCollecting pyspark\n  Downloading pyspark-3.5.1.tar.gz (317.0 MB)\nCollecting py4j==0.10.9.7\n  Downloading py4j-0.10.9.7-py2.py3-none-any.whl (200 kB)\nBuilding wheels for collected packages: pyspark\n  Building wheel for pyspark (setup.py): started\n  Building wheel for pyspark (setup.py): finished with status 'done'\n  Created wheel for pyspark: filename=pyspark-3.5.1-py2.py3-none-any.whl size=317488511 sha256=1676a0b7d6115c1004d3a5bf972ae50a2e56bb6ef840d255d5395ab0ff9c9e68\n  Stored in directory: /root/.cache/pip/wheels/92/09/11/aa01d01a7f005fda8a66ad71d2be7f8aa341bddafb27eee3c7\nSuccessfully built pyspark\nInstalling collected packages: py4j, pyspark\nSuccessfully installed py4j-0.10.9.7 pyspark-3.5.1\nPython interpreter will be restarted.\n"
     ]
    }
   ],
   "source": [
    "pip install pyspark"
   ]
  },
  {
   "cell_type": "code",
   "execution_count": 0,
   "metadata": {
    "application/vnd.databricks.v1+cell": {
     "cellMetadata": {
      "byteLimit": 2048000,
      "rowLimit": 10000
     },
     "inputWidgets": {},
     "nuid": "aeeaba06-8c67-4c1d-bbeb-36178a67f876",
     "showTitle": false,
     "title": ""
    }
   },
   "outputs": [],
   "source": [
    "from pyspark.sql import SparkSession\n",
    "import pyspark.sql.functions as f"
   ]
  },
  {
   "cell_type": "code",
   "execution_count": 0,
   "metadata": {
    "application/vnd.databricks.v1+cell": {
     "cellMetadata": {
      "byteLimit": 2048000,
      "rowLimit": 10000
     },
     "inputWidgets": {},
     "nuid": "1a5f4305-9432-4d47-b5db-2f468e6ed2b8",
     "showTitle": false,
     "title": ""
    }
   },
   "outputs": [],
   "source": [
    "spark = SparkSession.builder.appName(\"Random_Forest\").getOrCreate()"
   ]
  },
  {
   "cell_type": "code",
   "execution_count": 0,
   "metadata": {
    "application/vnd.databricks.v1+cell": {
     "cellMetadata": {
      "byteLimit": 2048000,
      "rowLimit": 10000
     },
     "inputWidgets": {},
     "nuid": "2b20edd5-07c8-4c5a-a44b-6f28e64f4b91",
     "showTitle": false,
     "title": ""
    }
   },
   "outputs": [],
   "source": [
    "df = spark.read.csv('dbfs:/FileStore/shared_uploads/dwija.pce21@sot.pdpu.ac.in/pima-1.csv', inferSchema=True, header=True)"
   ]
  },
  {
   "cell_type": "code",
   "execution_count": 0,
   "metadata": {
    "application/vnd.databricks.v1+cell": {
     "cellMetadata": {
      "byteLimit": 2048000,
      "rowLimit": 10000
     },
     "inputWidgets": {},
     "nuid": "1bb6df46-ca4e-4b73-99de-64ededfa8ca6",
     "showTitle": false,
     "title": ""
    }
   },
   "outputs": [
    {
     "output_type": "stream",
     "name": "stdout",
     "output_type": "stream",
     "text": [
      "+----+----+----+----+----+----+-----+---+-----+\n|preg|plas|pres|skin|test|mass| pedi|age|class|\n+----+----+----+----+----+----+-----+---+-----+\n|   6| 148|  72|  35|   0|33.6|0.627| 50|    1|\n|   1|  85|  66|  29|   0|26.6|0.351| 31|    0|\n|   8| 183|  64|   0|   0|23.3|0.672| 32|    1|\n|   1|  89|  66|  23|  94|28.1|0.167| 21|    0|\n|   0| 137|  40|  35| 168|43.1|2.288| 33|    1|\n|   5| 116|  74|   0|   0|25.6|0.201| 30|    0|\n|   3|  78|  50|  32|  88|31.0|0.248| 26|    1|\n|  10| 115|   0|   0|   0|35.3|0.134| 29|    0|\n|   2| 197|  70|  45| 543|30.5|0.158| 53|    1|\n|   8| 125|  96|   0|   0| 0.0|0.232| 54|    1|\n|   4| 110|  92|   0|   0|37.6|0.191| 30|    0|\n|  10| 168|  74|   0|   0|38.0|0.537| 34|    1|\n|  10| 139|  80|   0|   0|27.1|1.441| 57|    0|\n|   1| 189|  60|  23| 846|30.1|0.398| 59|    1|\n|   5| 166|  72|  19| 175|25.8|0.587| 51|    1|\n|   7| 100|   0|   0|   0|30.0|0.484| 32|    1|\n|   0| 118|  84|  47| 230|45.8|0.551| 31|    1|\n|   7| 107|  74|   0|   0|29.6|0.254| 31|    1|\n|   1| 103|  30|  38|  83|43.3|0.183| 33|    0|\n|   1| 115|  70|  30|  96|34.6|0.529| 32|    1|\n+----+----+----+----+----+----+-----+---+-----+\nonly showing top 20 rows\n\n"
     ]
    }
   ],
   "source": [
    "df.show()"
   ]
  },
  {
   "cell_type": "code",
   "execution_count": 0,
   "metadata": {
    "application/vnd.databricks.v1+cell": {
     "cellMetadata": {
      "byteLimit": 2048000,
      "rowLimit": 10000
     },
     "inputWidgets": {},
     "nuid": "fb23c4ae-1542-4ca8-94f1-a8a53d07d1c5",
     "showTitle": false,
     "title": ""
    }
   },
   "outputs": [
    {
     "output_type": "stream",
     "name": "stdout",
     "output_type": "stream",
     "text": [
      "Rows and Columns are:\n768 and 9\n"
     ]
    }
   ],
   "source": [
    "print(\"Rows and Columns are:\")\n",
    "print(df.count(),\"and\",len(df.columns))"
   ]
  },
  {
   "cell_type": "code",
   "execution_count": 0,
   "metadata": {
    "application/vnd.databricks.v1+cell": {
     "cellMetadata": {
      "byteLimit": 2048000,
      "rowLimit": 10000
     },
     "inputWidgets": {},
     "nuid": "f4b34454-4306-4b16-a8de-6c23171ad89c",
     "showTitle": false,
     "title": ""
    }
   },
   "outputs": [
    {
     "output_type": "stream",
     "name": "stdout",
     "output_type": "stream",
     "text": [
      "root\n |-- preg: integer (nullable = true)\n |-- plas: integer (nullable = true)\n |-- pres: integer (nullable = true)\n |-- skin: integer (nullable = true)\n |-- test: integer (nullable = true)\n |-- mass: double (nullable = true)\n |-- pedi: double (nullable = true)\n |-- age: integer (nullable = true)\n |-- class: integer (nullable = true)\n\n"
     ]
    }
   ],
   "source": [
    "df.printSchema()\n",
    "# to know datatypes"
   ]
  },
  {
   "cell_type": "code",
   "execution_count": 0,
   "metadata": {
    "application/vnd.databricks.v1+cell": {
     "cellMetadata": {
      "byteLimit": 2048000,
      "rowLimit": 10000
     },
     "inputWidgets": {},
     "nuid": "1e76fb33-ba19-4d8c-bb57-b3db18f1331c",
     "showTitle": false,
     "title": ""
    }
   },
   "outputs": [
    {
     "output_type": "stream",
     "name": "stdout",
     "output_type": "stream",
     "text": [
      "+------------------+-----------------+------------------+------------------+------------------+------------------+------------------+------------------+------------------+\n|              preg|             plas|              pres|              skin|              test|              mass|              pedi|               age|             class|\n+------------------+-----------------+------------------+------------------+------------------+------------------+------------------+------------------+------------------+\n|               768|              768|               768|               768|               768|               768|               768|               768|               768|\n|3.8450520833333335|     120.89453125|       69.10546875|20.536458333333332| 79.79947916666667|31.992578124999977|0.4718763020833327|33.240885416666664|0.3489583333333333|\n|  3.36957806269887|31.97261819513622|19.355807170644777|15.952217567727642|115.24400235133803| 7.884160320375441| 0.331328595012775|11.760231540678689| 0.476951377242799|\n|                 0|                0|                 0|                 0|                 0|               0.0|             0.078|                21|                 0|\n|                17|              199|               122|                99|               846|              67.1|              2.42|                81|                 1|\n+------------------+-----------------+------------------+------------------+------------------+------------------+------------------+------------------+------------------+\n\n"
     ]
    }
   ],
   "source": [
    "df.describe().select('preg','plas','pres','skin','test','mass','pedi','age','class').show()"
   ]
  },
  {
   "cell_type": "code",
   "execution_count": 0,
   "metadata": {
    "application/vnd.databricks.v1+cell": {
     "cellMetadata": {
      "byteLimit": 2048000,
      "rowLimit": 10000
     },
     "inputWidgets": {},
     "nuid": "3766e64f-1051-479f-87c3-a8e16d192fe4",
     "showTitle": false,
     "title": ""
    }
   },
   "outputs": [
    {
     "output_type": "stream",
     "name": "stdout",
     "output_type": "stream",
     "text": [
      "+-----+\n|class|\n+-----+\n|    1|\n|    0|\n|    1|\n|    0|\n|    1|\n|    0|\n|    1|\n|    0|\n|    1|\n|    1|\n|    0|\n|    1|\n|    0|\n|    1|\n|    1|\n|    1|\n|    1|\n|    1|\n|    0|\n|    1|\n+-----+\nonly showing top 20 rows\n\n"
     ]
    }
   ],
   "source": [
    "# Select target Variable\n",
    "df.select('class').show()"
   ]
  },
  {
   "cell_type": "code",
   "execution_count": 0,
   "metadata": {
    "application/vnd.databricks.v1+cell": {
     "cellMetadata": {
      "byteLimit": 2048000,
      "rowLimit": 10000
     },
     "inputWidgets": {},
     "nuid": "2df6a84d-92e4-48d0-8b95-3f40e39fe978",
     "showTitle": false,
     "title": ""
    }
   },
   "outputs": [
    {
     "output_type": "stream",
     "name": "stdout",
     "output_type": "stream",
     "text": [
      "+-------+------------------+-----------------+------------------+------------------+------------------+------------------+------------------+------------------+------------------+\n|summary|              preg|             plas|              pres|              skin|              test|              mass|              pedi|               age|             class|\n+-------+------------------+-----------------+------------------+------------------+------------------+------------------+------------------+------------------+------------------+\n|  count|               768|              768|               768|               768|               768|               768|               768|               768|               768|\n|   mean|3.8450520833333335|     120.89453125|       69.10546875|20.536458333333332| 79.79947916666667|31.992578124999977|0.4718763020833327|33.240885416666664|0.3489583333333333|\n| stddev|  3.36957806269887|31.97261819513622|19.355807170644777|15.952217567727642|115.24400235133803| 7.884160320375441| 0.331328595012775|11.760231540678689| 0.476951377242799|\n|    min|                 0|                0|                 0|                 0|                 0|               0.0|             0.078|                21|                 0|\n|    max|                17|              199|               122|                99|               846|              67.1|              2.42|                81|                 1|\n+-------+------------------+-----------------+------------------+------------------+------------------+------------------+------------------+------------------+------------------+\n\n"
     ]
    }
   ],
   "source": [
    "df.describe().show()"
   ]
  },
  {
   "cell_type": "code",
   "execution_count": 0,
   "metadata": {
    "application/vnd.databricks.v1+cell": {
     "cellMetadata": {
      "byteLimit": 2048000,
      "rowLimit": 10000
     },
     "inputWidgets": {},
     "nuid": "87e37e6d-aae3-44df-8f33-02d76cd2fb6c",
     "showTitle": false,
     "title": ""
    }
   },
   "outputs": [
    {
     "output_type": "stream",
     "name": "stdout",
     "output_type": "stream",
     "text": [
      "Out[21]: Row(preg=6, plas=148, pres=72, skin=35, test=0, mass=33.6, pedi=0.627, age=50, class=1)"
     ]
    }
   ],
   "source": [
    "df.head()"
   ]
  },
  {
   "cell_type": "code",
   "execution_count": 0,
   "metadata": {
    "application/vnd.databricks.v1+cell": {
     "cellMetadata": {
      "byteLimit": 2048000,
      "rowLimit": 10000
     },
     "inputWidgets": {},
     "nuid": "9ec3eaef-a82a-4854-88f8-0267d932d3b0",
     "showTitle": false,
     "title": ""
    }
   },
   "outputs": [
    {
     "output_type": "stream",
     "name": "stdout",
     "output_type": "stream",
     "text": [
      "Out[23]: [Row(preg=10, plas=101, pres=76, skin=48, test=180, mass=32.9, pedi=0.171, age=63, class=0),\n Row(preg=2, plas=122, pres=70, skin=27, test=0, mass=36.8, pedi=0.34, age=27, class=0),\n Row(preg=5, plas=121, pres=72, skin=23, test=112, mass=26.2, pedi=0.245, age=30, class=0),\n Row(preg=1, plas=126, pres=60, skin=0, test=0, mass=30.1, pedi=0.349, age=47, class=1),\n Row(preg=1, plas=93, pres=70, skin=31, test=0, mass=30.4, pedi=0.315, age=23, class=0)]"
     ]
    }
   ],
   "source": [
    "df.tail(5)"
   ]
  },
  {
   "cell_type": "code",
   "execution_count": 0,
   "metadata": {
    "application/vnd.databricks.v1+cell": {
     "cellMetadata": {
      "byteLimit": 2048000,
      "rowLimit": 10000
     },
     "inputWidgets": {},
     "nuid": "7eeb6bdd-c2a4-4f86-8a86-ca6f57b796e7",
     "showTitle": true,
     "title": "EDA"
    }
   },
   "outputs": [
    {
     "output_type": "stream",
     "name": "stdout",
     "output_type": "stream",
     "text": [
      "+-----+-----+\n|class|count|\n+-----+-----+\n|    1|  268|\n|    0|  500|\n+-----+-----+\n\n"
     ]
    }
   ],
   "source": [
    "df.groupBy(\"class\").count().show()"
   ]
  },
  {
   "cell_type": "code",
   "execution_count": 0,
   "metadata": {
    "application/vnd.databricks.v1+cell": {
     "cellMetadata": {
      "byteLimit": 2048000,
      "rowLimit": 10000
     },
     "inputWidgets": {},
     "nuid": "6e3753f2-6f8a-4169-a89d-63f73e9c0656",
     "showTitle": false,
     "title": ""
    }
   },
   "outputs": [
    {
     "output_type": "stream",
     "name": "stdout",
     "output_type": "stream",
     "text": [
      "+---+-----+\n|age|count|\n+---+-----+\n| 31|   24|\n| 65|    3|\n| 53|    5|\n| 34|   14|\n| 81|    1|\n| 28|   35|\n| 26|   33|\n| 27|   32|\n| 44|    8|\n| 22|   72|\n| 47|    6|\n| 52|    8|\n| 40|   13|\n| 57|    5|\n| 54|    6|\n| 48|    5|\n| 64|    1|\n| 41|   22|\n| 43|   13|\n| 37|   19|\n+---+-----+\nonly showing top 20 rows\n\n"
     ]
    }
   ],
   "source": [
    "df.groupBy('age').count().show()"
   ]
  },
  {
   "cell_type": "code",
   "execution_count": 0,
   "metadata": {
    "application/vnd.databricks.v1+cell": {
     "cellMetadata": {
      "byteLimit": 2048000,
      "rowLimit": 10000
     },
     "inputWidgets": {},
     "nuid": "af5c68eb-2894-440c-8df5-c1101a445f11",
     "showTitle": true,
     "title": "Vector Assembler"
    }
   },
   "outputs": [],
   "source": [
    "# pass independent variables and not targetted once \n",
    "# vector assembler is a tranformer that combines a given list of columns into single column\n",
    "# useful for combineing raw features and features generated by diffrent feature tranformation into one feature"
   ]
  },
  {
   "cell_type": "code",
   "execution_count": 0,
   "metadata": {
    "application/vnd.databricks.v1+cell": {
     "cellMetadata": {
      "byteLimit": 2048000,
      "rowLimit": 10000
     },
     "inputWidgets": {},
     "nuid": "8080c3ed-a1b5-4f2d-917d-19018e8b43fd",
     "showTitle": false,
     "title": ""
    }
   },
   "outputs": [],
   "source": [
    "from pyspark.ml.feature import VectorAssembler"
   ]
  },
  {
   "cell_type": "code",
   "execution_count": 0,
   "metadata": {
    "application/vnd.databricks.v1+cell": {
     "cellMetadata": {
      "byteLimit": 2048000,
      "rowLimit": 10000
     },
     "inputWidgets": {},
     "nuid": "70e90791-f66b-46a9-9a2d-eb8abf1498be",
     "showTitle": false,
     "title": ""
    }
   },
   "outputs": [
    {
     "output_type": "stream",
     "name": "stdout",
     "output_type": "stream",
     "text": [
      "Out[33]: ['preg', 'plas', 'pres', 'skin', 'test', 'mass', 'pedi', 'age', 'class']"
     ]
    }
   ],
   "source": [
    "df.columns"
   ]
  },
  {
   "cell_type": "code",
   "execution_count": 0,
   "metadata": {
    "application/vnd.databricks.v1+cell": {
     "cellMetadata": {
      "byteLimit": 2048000,
      "rowLimit": 10000
     },
     "inputWidgets": {},
     "nuid": "33675b33-975b-4879-a7be-c1aad82021a2",
     "showTitle": false,
     "title": ""
    }
   },
   "outputs": [],
   "source": [
    "assembler = VectorAssembler(inputCols=['preg', 'plas', 'pres', 'skin', 'test', 'mass', 'pedi', 'age'], outputCol=\"features\")\n",
    "\n",
    "# all the columns converted into one feature vector"
   ]
  },
  {
   "cell_type": "code",
   "execution_count": 0,
   "metadata": {
    "application/vnd.databricks.v1+cell": {
     "cellMetadata": {
      "byteLimit": 2048000,
      "rowLimit": 10000
     },
     "inputWidgets": {},
     "nuid": "ed81bdc2-9597-4b8b-902e-4ed21fa7da11",
     "showTitle": false,
     "title": ""
    }
   },
   "outputs": [
    {
     "output_type": "stream",
     "name": "stdout",
     "output_type": "stream",
     "text": [
      "Out[39]: VectorAssembler_6a13a0223688"
     ]
    }
   ],
   "source": [
    "assembler"
   ]
  },
  {
   "cell_type": "code",
   "execution_count": 0,
   "metadata": {
    "application/vnd.databricks.v1+cell": {
     "cellMetadata": {
      "byteLimit": 2048000,
      "rowLimit": 10000
     },
     "inputWidgets": {},
     "nuid": "b2ded69d-816c-41b4-990a-6eec194b4ef2",
     "showTitle": false,
     "title": ""
    }
   },
   "outputs": [],
   "source": [
    "output = assembler.transform(df)"
   ]
  },
  {
   "cell_type": "code",
   "execution_count": 0,
   "metadata": {
    "application/vnd.databricks.v1+cell": {
     "cellMetadata": {
      "byteLimit": 2048000,
      "rowLimit": 10000
     },
     "inputWidgets": {},
     "nuid": "84484965-38d1-44f3-93d2-d325a470ee87",
     "showTitle": false,
     "title": ""
    }
   },
   "outputs": [
    {
     "output_type": "stream",
     "name": "stdout",
     "output_type": "stream",
     "text": [
      "+----+----+----+----+----+----+-----+---+-----+--------------------+\n|preg|plas|pres|skin|test|mass| pedi|age|class|            features|\n+----+----+----+----+----+----+-----+---+-----+--------------------+\n|   6| 148|  72|  35|   0|33.6|0.627| 50|    1|[6.0,148.0,72.0,3...|\n|   1|  85|  66|  29|   0|26.6|0.351| 31|    0|[1.0,85.0,66.0,29...|\n|   8| 183|  64|   0|   0|23.3|0.672| 32|    1|[8.0,183.0,64.0,0...|\n|   1|  89|  66|  23|  94|28.1|0.167| 21|    0|[1.0,89.0,66.0,23...|\n|   0| 137|  40|  35| 168|43.1|2.288| 33|    1|[0.0,137.0,40.0,3...|\n|   5| 116|  74|   0|   0|25.6|0.201| 30|    0|[5.0,116.0,74.0,0...|\n|   3|  78|  50|  32|  88|31.0|0.248| 26|    1|[3.0,78.0,50.0,32...|\n|  10| 115|   0|   0|   0|35.3|0.134| 29|    0|[10.0,115.0,0.0,0...|\n|   2| 197|  70|  45| 543|30.5|0.158| 53|    1|[2.0,197.0,70.0,4...|\n|   8| 125|  96|   0|   0| 0.0|0.232| 54|    1|[8.0,125.0,96.0,0...|\n|   4| 110|  92|   0|   0|37.6|0.191| 30|    0|[4.0,110.0,92.0,0...|\n|  10| 168|  74|   0|   0|38.0|0.537| 34|    1|[10.0,168.0,74.0,...|\n|  10| 139|  80|   0|   0|27.1|1.441| 57|    0|[10.0,139.0,80.0,...|\n|   1| 189|  60|  23| 846|30.1|0.398| 59|    1|[1.0,189.0,60.0,2...|\n|   5| 166|  72|  19| 175|25.8|0.587| 51|    1|[5.0,166.0,72.0,1...|\n|   7| 100|   0|   0|   0|30.0|0.484| 32|    1|[7.0,100.0,0.0,0....|\n|   0| 118|  84|  47| 230|45.8|0.551| 31|    1|[0.0,118.0,84.0,4...|\n|   7| 107|  74|   0|   0|29.6|0.254| 31|    1|[7.0,107.0,74.0,0...|\n|   1| 103|  30|  38|  83|43.3|0.183| 33|    0|[1.0,103.0,30.0,3...|\n|   1| 115|  70|  30|  96|34.6|0.529| 32|    1|[1.0,115.0,70.0,3...|\n+----+----+----+----+----+----+-----+---+-----+--------------------+\nonly showing top 20 rows\n\n"
     ]
    }
   ],
   "source": [
    "output.show()"
   ]
  },
  {
   "cell_type": "code",
   "execution_count": 0,
   "metadata": {
    "application/vnd.databricks.v1+cell": {
     "cellMetadata": {
      "byteLimit": 2048000,
      "rowLimit": 10000
     },
     "inputWidgets": {},
     "nuid": "324f1c17-07f7-4d65-802b-da85be2074b5",
     "showTitle": false,
     "title": ""
    }
   },
   "outputs": [
    {
     "output_type": "stream",
     "name": "stdout",
     "output_type": "stream",
     "text": [
      "+-------------------------------------------+-----+\n|features                                   |class|\n+-------------------------------------------+-----+\n|[6.0,148.0,72.0,35.0,0.0,33.6,0.627,50.0]  |1    |\n|[1.0,85.0,66.0,29.0,0.0,26.6,0.351,31.0]   |0    |\n|[8.0,183.0,64.0,0.0,0.0,23.3,0.672,32.0]   |1    |\n|[1.0,89.0,66.0,23.0,94.0,28.1,0.167,21.0]  |0    |\n|[0.0,137.0,40.0,35.0,168.0,43.1,2.288,33.0]|1    |\n|[5.0,116.0,74.0,0.0,0.0,25.6,0.201,30.0]   |0    |\n|[3.0,78.0,50.0,32.0,88.0,31.0,0.248,26.0]  |1    |\n|[10.0,115.0,0.0,0.0,0.0,35.3,0.134,29.0]   |0    |\n|[2.0,197.0,70.0,45.0,543.0,30.5,0.158,53.0]|1    |\n|[8.0,125.0,96.0,0.0,0.0,0.0,0.232,54.0]    |1    |\n|[4.0,110.0,92.0,0.0,0.0,37.6,0.191,30.0]   |0    |\n|[10.0,168.0,74.0,0.0,0.0,38.0,0.537,34.0]  |1    |\n|[10.0,139.0,80.0,0.0,0.0,27.1,1.441,57.0]  |0    |\n|[1.0,189.0,60.0,23.0,846.0,30.1,0.398,59.0]|1    |\n|[5.0,166.0,72.0,19.0,175.0,25.8,0.587,51.0]|1    |\n|[7.0,100.0,0.0,0.0,0.0,30.0,0.484,32.0]    |1    |\n|[0.0,118.0,84.0,47.0,230.0,45.8,0.551,31.0]|1    |\n|[7.0,107.0,74.0,0.0,0.0,29.6,0.254,31.0]   |1    |\n|[1.0,103.0,30.0,38.0,83.0,43.3,0.183,33.0] |0    |\n|[1.0,115.0,70.0,30.0,96.0,34.6,0.529,32.0] |1    |\n+-------------------------------------------+-----+\nonly showing top 20 rows\n\n"
     ]
    }
   ],
   "source": [
    "output.select([\"features\",\"class\"]).show(truncate=False)"
   ]
  },
  {
   "cell_type": "code",
   "execution_count": 0,
   "metadata": {
    "application/vnd.databricks.v1+cell": {
     "cellMetadata": {
      "byteLimit": 2048000,
      "rowLimit": 10000
     },
     "inputWidgets": {},
     "nuid": "7526b6a9-02a5-4cb2-8bd9-80c5c239fedb",
     "showTitle": true,
     "title": "to create new dataframe for model"
    }
   },
   "outputs": [],
   "source": [
    "model_df = output.select([\"features\",\"class\"])"
   ]
  },
  {
   "cell_type": "code",
   "execution_count": 0,
   "metadata": {
    "application/vnd.databricks.v1+cell": {
     "cellMetadata": {
      "byteLimit": 2048000,
      "rowLimit": 10000
     },
     "inputWidgets": {},
     "nuid": "15dd0aba-86ae-4caa-845d-d1759990cec2",
     "showTitle": false,
     "title": ""
    }
   },
   "outputs": [
    {
     "output_type": "stream",
     "name": "stdout",
     "output_type": "stream",
     "text": [
      "+--------------------+-----+\n|            features|class|\n+--------------------+-----+\n|[6.0,148.0,72.0,3...|    1|\n|[1.0,85.0,66.0,29...|    0|\n|[8.0,183.0,64.0,0...|    1|\n|[1.0,89.0,66.0,23...|    0|\n|[0.0,137.0,40.0,3...|    1|\n|[5.0,116.0,74.0,0...|    0|\n|[3.0,78.0,50.0,32...|    1|\n|[10.0,115.0,0.0,0...|    0|\n|[2.0,197.0,70.0,4...|    1|\n|[8.0,125.0,96.0,0...|    1|\n|[4.0,110.0,92.0,0...|    0|\n|[10.0,168.0,74.0,...|    1|\n|[10.0,139.0,80.0,...|    0|\n|[1.0,189.0,60.0,2...|    1|\n|[5.0,166.0,72.0,1...|    1|\n|[7.0,100.0,0.0,0....|    1|\n|[0.0,118.0,84.0,4...|    1|\n|[7.0,107.0,74.0,0...|    1|\n|[1.0,103.0,30.0,3...|    0|\n|[1.0,115.0,70.0,3...|    1|\n+--------------------+-----+\nonly showing top 20 rows\n\n"
     ]
    }
   ],
   "source": [
    "model_df.show()"
   ]
  },
  {
   "cell_type": "code",
   "execution_count": 0,
   "metadata": {
    "application/vnd.databricks.v1+cell": {
     "cellMetadata": {
      "byteLimit": 2048000,
      "rowLimit": 10000
     },
     "inputWidgets": {},
     "nuid": "d9e2e3e2-4d25-4c6d-b911-90da2543ca7b",
     "showTitle": true,
     "title": "To split into train and test Dataset"
    }
   },
   "outputs": [],
   "source": [
    "train_df,test_df = model_df.randomSplit([0.7,0.3])"
   ]
  },
  {
   "cell_type": "code",
   "execution_count": 0,
   "metadata": {
    "application/vnd.databricks.v1+cell": {
     "cellMetadata": {
      "byteLimit": 2048000,
      "rowLimit": 10000
     },
     "inputWidgets": {},
     "nuid": "9d6d1a54-6036-45d2-8d78-18e5e0166c77",
     "showTitle": false,
     "title": ""
    }
   },
   "outputs": [
    {
     "output_type": "stream",
     "name": "stdout",
     "output_type": "stream",
     "text": [
      "Out[49]: 509"
     ]
    }
   ],
   "source": [
    "train_df.count()"
   ]
  },
  {
   "cell_type": "code",
   "execution_count": 0,
   "metadata": {
    "application/vnd.databricks.v1+cell": {
     "cellMetadata": {
      "byteLimit": 2048000,
      "rowLimit": 10000
     },
     "inputWidgets": {},
     "nuid": "0fd498cf-3a6d-4ef7-a711-058caa2fecc9",
     "showTitle": false,
     "title": ""
    }
   },
   "outputs": [
    {
     "output_type": "stream",
     "name": "stdout",
     "output_type": "stream",
     "text": [
      "Out[50]: 259"
     ]
    }
   ],
   "source": [
    "test_df.count()"
   ]
  },
  {
   "cell_type": "code",
   "execution_count": 0,
   "metadata": {
    "application/vnd.databricks.v1+cell": {
     "cellMetadata": {
      "byteLimit": 2048000,
      "rowLimit": 10000
     },
     "inputWidgets": {},
     "nuid": "67354571-0bd0-4e37-91b0-ecb4b9ce292d",
     "showTitle": true,
     "title": "Random Forest Model"
    }
   },
   "outputs": [],
   "source": [
    "from pyspark.ml.classification import RandomForestClassifier"
   ]
  },
  {
   "cell_type": "code",
   "execution_count": 0,
   "metadata": {
    "application/vnd.databricks.v1+cell": {
     "cellMetadata": {
      "byteLimit": 2048000,
      "rowLimit": 10000
     },
     "inputWidgets": {},
     "nuid": "e1a9ce5a-95d1-4ea2-9893-5675bc57a715",
     "showTitle": false,
     "title": ""
    }
   },
   "outputs": [],
   "source": [
    "# creating a model and passing target variable\n",
    "rf_classifier = RandomForestClassifier(labelCol=\"class\",numTrees=50).fit(train_df)"
   ]
  },
  {
   "cell_type": "code",
   "execution_count": 0,
   "metadata": {
    "application/vnd.databricks.v1+cell": {
     "cellMetadata": {
      "byteLimit": 2048000,
      "rowLimit": 10000
     },
     "inputWidgets": {},
     "nuid": "4b7d2811-c485-42d2-be7a-0ae3ffb88836",
     "showTitle": false,
     "title": ""
    }
   },
   "outputs": [],
   "source": [
    "rf_predict = rf_classifier.transform(test_df)"
   ]
  },
  {
   "cell_type": "code",
   "execution_count": 0,
   "metadata": {
    "application/vnd.databricks.v1+cell": {
     "cellMetadata": {
      "byteLimit": 2048000,
      "rowLimit": 10000
     },
     "inputWidgets": {},
     "nuid": "51060ed2-1858-4df4-bfd5-837d46c848f0",
     "showTitle": false,
     "title": ""
    }
   },
   "outputs": [
    {
     "output_type": "stream",
     "name": "stdout",
     "output_type": "stream",
     "text": [
      "+--------------------+-----+--------------------+--------------------+----------+\n|            features|class|       rawPrediction|         probability|prediction|\n+--------------------+-----+--------------------+--------------------+----------+\n|(8,[0,1,6,7],[10....|    1|[39.4773695521017...|[0.78954739104203...|       0.0|\n|(8,[1,5,6,7],[73....|    0|[48.1488278961754...|[0.96297655792350...|       0.0|\n|(8,[1,5,6,7],[167...|    1|[12.0316406951468...|[0.24063281390293...|       1.0|\n|(8,[1,6,7],[94.0,...|    0|[48.1488278961754...|[0.96297655792350...|       0.0|\n|[0.0,84.0,64.0,22...|    0|[45.5135705464508...|[0.91027141092901...|       0.0|\n|[0.0,91.0,68.0,32...|    0|[41.1739756946424...|[0.82347951389284...|       0.0|\n|[0.0,91.0,80.0,0....|    0|[42.7104447262486...|[0.85420889452497...|       0.0|\n|[0.0,93.0,100.0,3...|    0|[29.7782518770202...|[0.59556503754040...|       0.0|\n|[0.0,94.0,70.0,27...|    0|[42.2047687384370...|[0.84409537476874...|       0.0|\n|[0.0,100.0,70.0,2...|    0|[46.5121879328471...|[0.93024375865694...|       0.0|\n|[0.0,100.0,88.0,6...|    0|[27.8364416244600...|[0.55672883248920...|       0.0|\n|[0.0,101.0,62.0,0...|    0|[47.9980009489324...|[0.95996001897864...|       0.0|\n|[0.0,101.0,76.0,0...|    0|[42.0716339700666...|[0.84143267940133...|       0.0|\n|[0.0,102.0,86.0,1...|    0|[44.7334760233226...|[0.89466952046645...|       0.0|\n|[0.0,104.0,64.0,3...|    1|[43.6599591612448...|[0.87319918322489...|       0.0|\n|[0.0,104.0,76.0,0...|    0|[46.4932046774487...|[0.92986409354897...|       0.0|\n|[0.0,105.0,84.0,0...|    1|[42.0386417546356...|[0.84077283509271...|       0.0|\n|[0.0,105.0,90.0,0...|    0|[37.1474828572793...|[0.74294965714558...|       0.0|\n|[0.0,106.0,70.0,3...|    0|[42.4675879781654...|[0.84935175956330...|       0.0|\n|[0.0,107.0,62.0,3...|    1|[43.2944093920587...|[0.86588818784117...|       0.0|\n+--------------------+-----+--------------------+--------------------+----------+\nonly showing top 20 rows\n\n"
     ]
    }
   ],
   "source": [
    "rf_predict.show()"
   ]
  },
  {
   "cell_type": "code",
   "execution_count": 0,
   "metadata": {
    "application/vnd.databricks.v1+cell": {
     "cellMetadata": {
      "byteLimit": 2048000,
      "rowLimit": 10000
     },
     "inputWidgets": {},
     "nuid": "699ce8c9-0631-4b36-83c4-bec88495c096",
     "showTitle": false,
     "title": ""
    }
   },
   "outputs": [],
   "source": [
    "# to evaluate the prediction\n",
    "from pyspark.ml.evaluation import BinaryClassificationEvaluator"
   ]
  },
  {
   "cell_type": "code",
   "execution_count": 0,
   "metadata": {
    "application/vnd.databricks.v1+cell": {
     "cellMetadata": {
      "byteLimit": 2048000,
      "rowLimit": 10000
     },
     "inputWidgets": {},
     "nuid": "aac6fe1e-2996-4e9b-97df-eed7560f834b",
     "showTitle": false,
     "title": ""
    }
   },
   "outputs": [],
   "source": [
    "rf_auc = BinaryClassificationEvaluator(labelCol=\"class\").evaluate(rf_predict)"
   ]
  },
  {
   "cell_type": "code",
   "execution_count": 0,
   "metadata": {
    "application/vnd.databricks.v1+cell": {
     "cellMetadata": {
      "byteLimit": 2048000,
      "rowLimit": 10000
     },
     "inputWidgets": {},
     "nuid": "ef675264-8be8-4c26-8116-4363398101b4",
     "showTitle": false,
     "title": ""
    }
   },
   "outputs": [
    {
     "output_type": "stream",
     "name": "stdout",
     "output_type": "stream",
     "text": [
      "Out[64]: 0.8177150192554559"
     ]
    }
   ],
   "source": [
    "rf_auc"
   ]
  },
  {
   "cell_type": "code",
   "execution_count": 0,
   "metadata": {
    "application/vnd.databricks.v1+cell": {
     "cellMetadata": {
      "byteLimit": 2048000,
      "rowLimit": 10000
     },
     "inputWidgets": {},
     "nuid": "3e2e7cbf-ba0e-41b8-af61-46ecb6b2bdc7",
     "showTitle": true,
     "title": "To see all the features"
    }
   },
   "outputs": [
    {
     "output_type": "stream",
     "name": "stdout",
     "output_type": "stream",
     "text": [
      "Out[65]: SparseVector(8, {0: 0.0684, 1: 0.3743, 2: 0.0553, 3: 0.0626, 4: 0.0514, 5: 0.1826, 6: 0.0496, 7: 0.1559})"
     ]
    }
   ],
   "source": [
    "rf_classifier.featureImportances"
   ]
  },
  {
   "cell_type": "code",
   "execution_count": 0,
   "metadata": {
    "application/vnd.databricks.v1+cell": {
     "cellMetadata": {
      "byteLimit": 2048000,
      "rowLimit": 10000
     },
     "inputWidgets": {},
     "nuid": "2080f99d-a5a6-4858-a50d-c3c80b34cadb",
     "showTitle": true,
     "title": "Model Saving"
    }
   },
   "outputs": [
    {
     "output_type": "stream",
     "name": "stdout",
     "output_type": "stream",
     "text": [
      "Out[66]: '/databricks/driver'"
     ]
    }
   ],
   "source": [
    "pwd"
   ]
  },
  {
   "cell_type": "code",
   "execution_count": 0,
   "metadata": {
    "application/vnd.databricks.v1+cell": {
     "cellMetadata": {
      "byteLimit": 2048000,
      "rowLimit": 10000
     },
     "inputWidgets": {},
     "nuid": "937101c0-664d-4229-9312-7a4985617ef1",
     "showTitle": false,
     "title": ""
    }
   },
   "outputs": [],
   "source": [
    "rf_classifier.save('/databricks/driver/RF_model')"
   ]
  },
  {
   "cell_type": "code",
   "execution_count": 0,
   "metadata": {
    "application/vnd.databricks.v1+cell": {
     "cellMetadata": {
      "byteLimit": 2048000,
      "rowLimit": 10000
     },
     "inputWidgets": {},
     "nuid": "60862dd8-3a1e-4ee8-8e35-2920f6fbcb6f",
     "showTitle": false,
     "title": ""
    }
   },
   "outputs": [],
   "source": [
    "from pyspark.ml.classification import RandomForestClassificationModel"
   ]
  },
  {
   "cell_type": "code",
   "execution_count": 0,
   "metadata": {
    "application/vnd.databricks.v1+cell": {
     "cellMetadata": {
      "byteLimit": 2048000,
      "rowLimit": 10000
     },
     "inputWidgets": {},
     "nuid": "5af21c6e-c401-4be2-9478-0cdf5d7ac63c",
     "showTitle": false,
     "title": ""
    }
   },
   "outputs": [],
   "source": [
    "rf = RandomForestClassificationModel.load('/databricks/driver/RF_model')"
   ]
  },
  {
   "cell_type": "code",
   "execution_count": 0,
   "metadata": {
    "application/vnd.databricks.v1+cell": {
     "cellMetadata": {},
     "inputWidgets": {},
     "nuid": "ec435954-ca33-4284-8b8f-843a1cd469cb",
     "showTitle": false,
     "title": ""
    }
   },
   "outputs": [],
   "source": []
  }
 ],
 "metadata": {
  "application/vnd.databricks.v1+notebook": {
   "dashboards": [],
   "environmentMetadata": null,
   "language": "python",
   "notebookMetadata": {
    "pythonIndentUnit": 4
   },
   "notebookName": "Random Forest Trees",
   "widgets": {}
  }
 },
 "nbformat": 4,
 "nbformat_minor": 0
}
