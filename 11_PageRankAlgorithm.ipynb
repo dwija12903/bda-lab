{
 "cells": [
  {
   "cell_type": "markdown",
   "metadata": {},
   "source": [
    "Page Rank Calculation"
   ]
  },
  {
   "cell_type": "code",
   "execution_count": 13,
   "metadata": {},
   "outputs": [],
   "source": [
    "import networkx as nx\n",
    "import scipy \n",
    "import matplotlib.pyplot as plt\n"
   ]
  },
  {
   "cell_type": "code",
   "execution_count": 2,
   "metadata": {},
   "outputs": [],
   "source": [
    "# creation of directional graph\n",
    "g  = nx.DiGraph()"
   ]
  },
  {
   "cell_type": "code",
   "execution_count": 3,
   "metadata": {},
   "outputs": [],
   "source": [
    "# adding edges\n",
    "edge_list = [(1,2),(1,3),(2,1),(3,1),(3,2)]\n",
    "g.add_edges_from(edge_list)"
   ]
  },
  {
   "cell_type": "code",
   "execution_count": 4,
   "metadata": {},
   "outputs": [],
   "source": [
    "pagerank = nx.pagerank(g)"
   ]
  },
  {
   "cell_type": "code",
   "execution_count": 5,
   "metadata": {},
   "outputs": [
    {
     "name": "stdout",
     "output_type": "stream",
     "text": [
      "PageRank of nodes:\n",
      "Node 1 : 0.43274880303664615\n",
      "Node 2 : 0.33333333333333326\n",
      "Node 3 : 0.23391786363002037\n"
     ]
    }
   ],
   "source": [
    "print(\"PageRank of nodes:\")\n",
    "for nodes,score in pagerank.items():\n",
    "    print(f\"Node {nodes} : {score}\")"
   ]
  },
  {
   "cell_type": "code",
   "execution_count": 6,
   "metadata": {},
   "outputs": [],
   "source": [
    "from pylab import rcParams # for setting plot size\n",
    "rcParams['figure.figsize'] = (3,3) "
   ]
  },
  {
   "cell_type": "code",
   "execution_count": 9,
   "metadata": {},
   "outputs": [],
   "source": [
    "labels = ['A','B','C','D','E','F','G']\n",
    "pages = range(len(labels))"
   ]
  },
  {
   "cell_type": "code",
   "execution_count": 11,
   "metadata": {},
   "outputs": [
    {
     "data": {
      "text/plain": [
       "{0: 'A', 1: 'B', 2: 'C', 3: 'D', 4: 'E', 5: 'F', 6: 'G'}"
      ]
     },
     "execution_count": 11,
     "metadata": {},
     "output_type": "execute_result"
    }
   ],
   "source": [
    "page_labels = dict(zip(pages,labels)) # mapping page number to label\n",
    "page_labels"
   ]
  },
  {
   "cell_type": "code",
   "execution_count": 12,
   "metadata": {},
   "outputs": [],
   "source": [
    "links = [(1,0), (2,0), (3,1), (3,2), (4,1), (4,2), (5,3), (5,4), (6,3), (6,4), (6,5)]"
   ]
  },
  {
   "cell_type": "code",
   "execution_count": null,
   "metadata": {},
   "outputs": [],
   "source": [
    "positions = [(0,1), (1,2), (1,0), (2,0), (2,1), (3,2), (3,1)]"
   ]
  },
  {
   "cell_type": "code",
   "execution_count": 14,
   "metadata": {},
   "outputs": [],
   "source": [
    "G = nx.DiGraph()\n",
    "G.add_nodes_from(pages)\n",
    "G.add_edges_from(links)"
   ]
  },
  {
   "cell_type": "code",
   "execution_count": 16,
   "metadata": {},
   "outputs": [
    {
     "data": {
      "text/plain": [
       "None"
      ]
     },
     "metadata": {},
     "output_type": "display_data"
    },
    {
     "data": {
      "image/png": "[encoded data removed]",
      "text/plain": [
       "<Figure size 300x300 with 1 Axes>"
      ]
     },
     "metadata": {},
     "output_type": "display_data"
    }
   ],
   "source": [
    "plt.clf() # clear current figure\n",
    "display(nx.draw(G,\n",
    "                with_labels=True,\n",
    "                labels=page_labels,\n",
    "                node_color='pink',\n",
    "                font_color='black',\n",
    "                pos=positions))"
   ]
  },
  {
   "cell_type": "code",
   "execution_count": 17,
   "metadata": {},
   "outputs": [
    {
     "data": {
      "text/plain": [
       "{0: 0.32591992700965544,\n",
       " 1: 0.1558318053265522,\n",
       " 2: 0.1558318053265522,\n",
       " 3: 0.11156152649727744,\n",
       " 4: 0.11156152649727744,\n",
       " 5: 0.07828892263154488,\n",
       " 6: 0.061004486711140324}"
      ]
     },
     "execution_count": 17,
     "metadata": {},
     "output_type": "execute_result"
    }
   ],
   "source": [
    "page_rank = nx.pagerank(G)\n",
    "page_rank"
   ]
  },
  {
   "cell_type": "code",
   "execution_count": 19,
   "metadata": {},
   "outputs": [
    {
     "name": "stdout",
     "output_type": "stream",
     "text": [
      "Most important node is 0 with rank 0.32591992700965544\n"
     ]
    }
   ],
   "source": [
    "# to find most important node\n",
    "for node,rank in page_rank.items():\n",
    "    if rank == max(page_rank.values()):\n",
    "        print(f\"Most important node is {node} with rank {rank}\")"
   ]
  },
  {
   "cell_type": "code",
   "execution_count": 27,
   "metadata": {},
   "outputs": [
    {
     "data": {
      "text/plain": [
       "{0: [], 1: [0], 2: [0], 3: [1, 2], 4: [1, 2], 5: [3, 4], 6: [3, 4, 5]}"
      ]
     },
     "execution_count": 27,
     "metadata": {},
     "output_type": "execute_result"
    }
   ],
   "source": [
    "# adjacency array\n",
    "adjacency = nx.to_dict_of_lists(G)\n",
    "adjacency"
   ]
  },
  {
   "cell_type": "code",
   "execution_count": 28,
   "metadata": {},
   "outputs": [
    {
     "data": {
      "text/plain": [
       "[(0, 1, 1.0),\n",
       " (0, 2, 1.0),\n",
       " (1, 3, 0.5),\n",
       " (2, 3, 0.5),\n",
       " (1, 4, 0.5),\n",
       " (2, 4, 0.5),\n",
       " (3, 5, 0.5),\n",
       " (4, 5, 0.5),\n",
       " (3, 6, 0.3333333333333333),\n",
       " (4, 6, 0.3333333333333333),\n",
       " (5, 6, 0.3333333333333333)]"
      ]
     },
     "execution_count": 28,
     "metadata": {},
     "output_type": "execute_result"
    }
   ],
   "source": [
    "# transition matrix\n",
    "connection_matrix = []\n",
    "for a in adjacency:\n",
    "    for b in adjacency[a]:\n",
    "        connection_matrix.append((b,a,1/len(adjacency[int(a)])))\n",
    "connection_matrix"
   ]
  },
  {
   "cell_type": "code",
   "execution_count": 30,
   "metadata": {},
   "outputs": [
    {
     "name": "stdout",
     "output_type": "stream",
     "text": [
      "[0.14285714 0.14285714 0.14285714 0.14285714 0.14285714 0.14285714\n",
      " 0.14285714]\n",
      "[1. 1. 1. 1. 1. 1. 1.]\n"
     ]
    }
   ],
   "source": [
    "import numpy as np\n",
    "n = len(pages)\n",
    "page_rank_ = np.ones(n)/n\n",
    "old_page_rank = np.ones(n)\n",
    "print(page_rank_)\n",
    "print(old_page_rank)"
   ]
  },
  {
   "cell_type": "code",
   "execution_count": 31,
   "metadata": {},
   "outputs": [],
   "source": [
    "def distance(u,v):\n",
    "    if len(u) != len(v):\n",
    "        raise ValueError(\"Vectors must be of equal length\")\n",
    "    \n",
    "    return sum([(v-u)**2 for u,v in zip(u,v)])"
   ]
  },
  {
   "cell_type": "code",
   "execution_count": null,
   "metadata": {},
   "outputs": [],
   "source": [
    "linksRDD = sc.parallelize(connection_matrix).cache()\n",
    "linksRDD.take(3)"
   ]
  },
  {
   "cell_type": "code",
   "execution_count": null,
   "metadata": {},
   "outputs": [],
   "source": [
    "# main algorithm\n",
    "tolerence = 10e-7\n",
    "max_iteration = 1000\n",
    "iteration =0\n",
    "while (distance(page_rank_,old_page_rank)>tolerence and iteration < max_iteration):\n",
    "    old_page_rank = page_rank_\n",
    "    page_rank_values = linksRDD.map(lamba x:\n",
    "                                    (x[0],x[2]*page_rank_[x[1]])).reduceByKey(lambda x,y:x+y).sortByKey().collect()\n",
    "    page_rank_ = np.array([c for (i,c) in page_rank_values])\n",
    "    iteration +=1\n",
    "    print(f\"Iteration {iteration} : {page_rank_}\")\n",
    "    # return page_rank"
   ]
  }
 ],
 "metadata": {
  "kernelspec": {
   "display_name": "Python 3",
   "language": "python",
   "name": "python3"
  },
  "language_info": {
   "codemirror_mode": {
    "name": "ipython",
    "version": 3
   },
   "file_extension": ".py",
   "mimetype": "text/x-python",
   "name": "python",
   "nbconvert_exporter": "python",
   "pygments_lexer": "ipython3",
   "version": "3.9.0"
  }
 },
 "nbformat": 4,
 "nbformat_minor": 2
}
