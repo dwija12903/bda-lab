{
 "cells": [
  {
   "cell_type": "code",
   "execution_count": 0,
   "metadata": {
    "application/vnd.databricks.v1+cell": {
     "cellMetadata": {
      "byteLimit": 2048000,
      "rowLimit": 10000
     },
     "inputWidgets": {},
     "nuid": "44b58214-5af4-4cc3-abfb-ac92dcab4440",
     "showTitle": false,
     "title": ""
    }
   },
   "outputs": [],
   "source": [
    "# Linear Regression Is used to predit, value of variable based on other variable. \n",
    "# Variable you want to predict is call dependent variable and the variable the you are using to predict other variable values is called independent variable"
   ]
  },
  {
   "cell_type": "code",
   "execution_count": 0,
   "metadata": {
    "application/vnd.databricks.v1+cell": {
     "cellMetadata": {
      "byteLimit": 2048000,
      "rowLimit": 10000
     },
     "inputWidgets": {},
     "nuid": "705b9e63-522a-4e1d-85d8-3a010d002df2",
     "showTitle": false,
     "title": ""
    }
   },
   "outputs": [],
   "source": [
    "from pyspark.sql import SparkSession\n",
    "from pyspark.ml.stat import Correlation\n",
    "import pyspark.sql.functions as F"
   ]
  },
  {
   "cell_type": "code",
   "execution_count": 0,
   "metadata": {
    "application/vnd.databricks.v1+cell": {
     "cellMetadata": {
      "byteLimit": 2048000,
      "rowLimit": 10000
     },
     "inputWidgets": {},
     "nuid": "eb7b2737-27d4-445e-8863-ecf96c5c24ee",
     "showTitle": false,
     "title": ""
    }
   },
   "outputs": [],
   "source": [
    "spark = SparkSession.builder.appName(\"Liner_regression\").getOrCreate()"
   ]
  },
  {
   "cell_type": "code",
   "execution_count": 0,
   "metadata": {
    "application/vnd.databricks.v1+cell": {
     "cellMetadata": {
      "byteLimit": 2048000,
      "rowLimit": 10000
     },
     "inputWidgets": {},
     "nuid": "3f17b129-8057-44ca-be92-283d41725f74",
     "showTitle": false,
     "title": ""
    }
   },
   "outputs": [],
   "source": [
    "df = spark.read.csv('dbfs:/FileStore/shared_uploads/dwija.pce21@sot.pdpu.ac.in/insurance.csv', inferSchema=True, header=True)"
   ]
  },
  {
   "cell_type": "code",
   "execution_count": 0,
   "metadata": {
    "application/vnd.databricks.v1+cell": {
     "cellMetadata": {
      "byteLimit": 2048000,
      "rowLimit": 10000
     },
     "inputWidgets": {},
     "nuid": "683a0333-8bd0-4dc3-8b0b-7faeabe97a56",
     "showTitle": false,
     "title": ""
    }
   },
   "outputs": [
    {
     "output_type": "stream",
     "name": "stdout",
     "output_type": "stream",
     "text": [
      "+---+------+------+--------+------+---------+-----------+\n|age|gender|   bmi|children|smoker|   region|    charges|\n+---+------+------+--------+------+---------+-----------+\n| 19|female|  27.9|       0|   yes|southwest|  16884.924|\n| 18|  male| 33.77|       1|    no|southeast|  1725.5523|\n| 28|  male|  33.0|       3|    no|southeast|   4449.462|\n| 33|  male|22.705|       0|    no|northwest|21984.47061|\n| 32|  male| 28.88|       0|    no|northwest|  3866.8552|\n| 31|female| 25.74|       0|    no|southeast|  3756.6216|\n| 46|female| 33.44|       1|    no|southeast|  8240.5896|\n| 37|female| 27.74|       3|    no|northwest|  7281.5056|\n| 37|  male| 29.83|       2|    no|northeast|  6406.4107|\n| 60|female| 25.84|       0|    no|northwest|28923.13692|\n| 25|  male| 26.22|       0|    no|northeast|  2721.3208|\n| 62|female| 26.29|       0|   yes|southeast| 27808.7251|\n| 23|  male|  34.4|       0|    no|southwest|   1826.843|\n| 56|female| 39.82|       0|    no|southeast| 11090.7178|\n| 27|  male| 42.13|       0|   yes|southeast| 39611.7577|\n| 19|  male|  24.6|       1|    no|southwest|   1837.237|\n| 52|female| 30.78|       1|    no|northeast| 10797.3362|\n| 23|  male|23.845|       0|    no|northeast| 2395.17155|\n| 56|  male|  40.3|       0|    no|southwest|  10602.385|\n| 30|  male|  35.3|       0|   yes|southwest|  36837.467|\n+---+------+------+--------+------+---------+-----------+\nonly showing top 20 rows\n\n"
     ]
    }
   ],
   "source": [
    "df.show()"
   ]
  },
  {
   "cell_type": "code",
   "execution_count": 0,
   "metadata": {
    "application/vnd.databricks.v1+cell": {
     "cellMetadata": {
      "byteLimit": 2048000,
      "rowLimit": 10000
     },
     "inputWidgets": {},
     "nuid": "41487b1d-4ae9-42e6-a7fa-99e61c03ced2",
     "showTitle": false,
     "title": ""
    }
   },
   "outputs": [
    {
     "output_type": "stream",
     "name": "stdout",
     "output_type": "stream",
     "text": [
      "Out[8]: 1338"
     ]
    }
   ],
   "source": [
    "df.count()"
   ]
  },
  {
   "cell_type": "code",
   "execution_count": 0,
   "metadata": {
    "application/vnd.databricks.v1+cell": {
     "cellMetadata": {
      "byteLimit": 2048000,
      "rowLimit": 10000
     },
     "inputWidgets": {},
     "nuid": "90ba43e1-1717-4cdf-aa64-780bcc76292b",
     "showTitle": false,
     "title": ""
    }
   },
   "outputs": [
    {
     "output_type": "stream",
     "name": "stdout",
     "output_type": "stream",
     "text": [
      "Out[9]: 7"
     ]
    }
   ],
   "source": [
    "len(df.columns)"
   ]
  },
  {
   "cell_type": "code",
   "execution_count": 0,
   "metadata": {
    "application/vnd.databricks.v1+cell": {
     "cellMetadata": {
      "byteLimit": 2048000,
      "rowLimit": 10000
     },
     "inputWidgets": {},
     "nuid": "ef68c6af-e3a1-473d-9a22-37b8df484d79",
     "showTitle": false,
     "title": ""
    }
   },
   "outputs": [
    {
     "output_type": "stream",
     "name": "stdout",
     "output_type": "stream",
     "text": [
      "root\n |-- age: integer (nullable = true)\n |-- gender: string (nullable = true)\n |-- bmi: double (nullable = true)\n |-- children: integer (nullable = true)\n |-- smoker: string (nullable = true)\n |-- region: string (nullable = true)\n |-- charges: double (nullable = true)\n\n"
     ]
    }
   ],
   "source": [
    "df.printSchema()"
   ]
  },
  {
   "cell_type": "code",
   "execution_count": 0,
   "metadata": {
    "application/vnd.databricks.v1+cell": {
     "cellMetadata": {
      "byteLimit": 2048000,
      "rowLimit": 10000
     },
     "inputWidgets": {},
     "nuid": "b497f4a1-fe4e-4f46-9a57-3df9d81ad807",
     "showTitle": false,
     "title": ""
    }
   },
   "outputs": [
    {
     "output_type": "stream",
     "name": "stdout",
     "output_type": "stream",
     "text": [
      "+-------+------------------+------+------------------+-----------------+------+---------+------------------+\n|summary|               age|gender|               bmi|         children|smoker|   region|           charges|\n+-------+------------------+------+------------------+-----------------+------+---------+------------------+\n|  count|              1338|  1338|              1338|             1338|  1338|     1338|              1338|\n|   mean| 39.20702541106129|  null|30.663396860986538|  1.0949177877429|  null|     null|13270.422265141257|\n| stddev|14.049960379216147|  null| 6.098186911679012|1.205492739781914|  null|     null|12110.011236693992|\n|    min|                18|female|             15.96|                0|    no|northeast|         1121.8739|\n|    max|                64|  male|             53.13|                5|   yes|southwest|       63770.42801|\n+-------+------------------+------+------------------+-----------------+------+---------+------------------+\n\n"
     ]
    }
   ],
   "source": [
    "df.describe().show()"
   ]
  },
  {
   "cell_type": "code",
   "execution_count": 0,
   "metadata": {
    "application/vnd.databricks.v1+cell": {
     "cellMetadata": {
      "byteLimit": 2048000,
      "rowLimit": 10000
     },
     "inputWidgets": {},
     "nuid": "ca637998-9b6c-4b04-a998-931ac51b4e5c",
     "showTitle": false,
     "title": ""
    }
   },
   "outputs": [
    {
     "output_type": "stream",
     "name": "stdout",
     "output_type": "stream",
     "text": [
      "Out[13]: [Row(age=19, gender='female', bmi=27.9, children=0, smoker='yes', region='southwest', charges=16884.924),\n Row(age=18, gender='male', bmi=33.77, children=1, smoker='no', region='southeast', charges=1725.5523),\n Row(age=28, gender='male', bmi=33.0, children=3, smoker='no', region='southeast', charges=4449.462),\n Row(age=33, gender='male', bmi=22.705, children=0, smoker='no', region='northwest', charges=21984.47061),\n Row(age=32, gender='male', bmi=28.88, children=0, smoker='no', region='northwest', charges=3866.8552)]"
     ]
    }
   ],
   "source": [
    "df.head(5)"
   ]
  },
  {
   "cell_type": "code",
   "execution_count": 0,
   "metadata": {
    "application/vnd.databricks.v1+cell": {
     "cellMetadata": {
      "byteLimit": 2048000,
      "rowLimit": 10000
     },
     "inputWidgets": {},
     "nuid": "649023e8-77d5-4ec1-8362-9851a1f2955b",
     "showTitle": false,
     "title": ""
    }
   },
   "outputs": [
    {
     "output_type": "stream",
     "name": "stdout",
     "output_type": "stream",
     "text": [
      "Out[14]: [Row(age=50, gender='male', bmi=30.97, children=3, smoker='no', region='northwest', charges=10600.5483),\n Row(age=18, gender='female', bmi=31.92, children=0, smoker='no', region='northeast', charges=2205.9808),\n Row(age=18, gender='female', bmi=36.85, children=0, smoker='no', region='southeast', charges=1629.8335),\n Row(age=21, gender='female', bmi=25.8, children=0, smoker='no', region='southwest', charges=2007.945),\n Row(age=61, gender='female', bmi=29.07, children=0, smoker='yes', region='northwest', charges=29141.3603)]"
     ]
    }
   ],
   "source": [
    "df.tail(5)"
   ]
  },
  {
   "cell_type": "code",
   "execution_count": 0,
   "metadata": {
    "application/vnd.databricks.v1+cell": {
     "cellMetadata": {
      "byteLimit": 2048000,
      "rowLimit": 10000
     },
     "inputWidgets": {},
     "nuid": "3d2217a1-b01d-40b7-8f5f-75d85edb6397",
     "showTitle": false,
     "title": ""
    }
   },
   "outputs": [
    {
     "output_type": "stream",
     "name": "stdout",
     "output_type": "stream",
     "text": [
      "Out[15]: 0.299008193330648"
     ]
    }
   ],
   "source": [
    "df.corr('age','charges')"
   ]
  },
  {
   "cell_type": "code",
   "execution_count": 0,
   "metadata": {
    "application/vnd.databricks.v1+cell": {
     "cellMetadata": {
      "byteLimit": 2048000,
      "rowLimit": 10000
     },
     "inputWidgets": {},
     "nuid": "03014614-7fb9-408b-87ef-ea077ef8ed02",
     "showTitle": false,
     "title": ""
    }
   },
   "outputs": [
    {
     "output_type": "stream",
     "name": "stdout",
     "output_type": "stream",
     "text": [
      "Out[16]: 0.19834096883362903"
     ]
    }
   ],
   "source": [
    "df.corr('bmi','charges')"
   ]
  },
  {
   "cell_type": "code",
   "execution_count": 0,
   "metadata": {
    "application/vnd.databricks.v1+cell": {
     "cellMetadata": {
      "byteLimit": 2048000,
      "rowLimit": 10000
     },
     "inputWidgets": {},
     "nuid": "6284df35-0005-4350-9507-696da2016d5c",
     "showTitle": false,
     "title": ""
    }
   },
   "outputs": [],
   "source": [
    "from pyspark.ml.feature import VectorAssembler"
   ]
  },
  {
   "cell_type": "code",
   "execution_count": 0,
   "metadata": {
    "application/vnd.databricks.v1+cell": {
     "cellMetadata": {
      "byteLimit": 2048000,
      "rowLimit": 10000
     },
     "inputWidgets": {},
     "nuid": "490a5c6f-b4f6-403f-b0a4-a671eaa458b2",
     "showTitle": false,
     "title": ""
    }
   },
   "outputs": [
    {
     "output_type": "stream",
     "name": "stdout",
     "output_type": "stream",
     "text": [
      "Out[18]: ['age', 'gender', 'bmi', 'children', 'smoker', 'region', 'charges']"
     ]
    }
   ],
   "source": [
    "df.columns"
   ]
  },
  {
   "cell_type": "code",
   "execution_count": 0,
   "metadata": {
    "application/vnd.databricks.v1+cell": {
     "cellMetadata": {
      "byteLimit": 2048000,
      "rowLimit": 10000
     },
     "inputWidgets": {},
     "nuid": "5d5c2ad7-1a58-42eb-b8cb-0781edad4ecf",
     "showTitle": false,
     "title": ""
    }
   },
   "outputs": [],
   "source": [
    "assembler  = VectorAssembler(inputCols=['age', 'bmi', 'children'],outputCol=\"features\")"
   ]
  },
  {
   "cell_type": "code",
   "execution_count": 0,
   "metadata": {
    "application/vnd.databricks.v1+cell": {
     "cellMetadata": {
      "byteLimit": 2048000,
      "rowLimit": 10000
     },
     "inputWidgets": {},
     "nuid": "8a4a361c-76b0-4301-aaa4-09673778f161",
     "showTitle": false,
     "title": ""
    }
   },
   "outputs": [
    {
     "output_type": "stream",
     "name": "stdout",
     "output_type": "stream",
     "text": [
      "Out[32]: VectorAssembler_c95f86682e64"
     ]
    }
   ],
   "source": [
    "assembler"
   ]
  },
  {
   "cell_type": "code",
   "execution_count": 0,
   "metadata": {
    "application/vnd.databricks.v1+cell": {
     "cellMetadata": {
      "byteLimit": 2048000,
      "rowLimit": 10000
     },
     "inputWidgets": {},
     "nuid": "a2270603-c1bd-44ee-a488-2b4b3618b7be",
     "showTitle": false,
     "title": ""
    }
   },
   "outputs": [],
   "source": [
    "output = assembler.transform(df)"
   ]
  },
  {
   "cell_type": "code",
   "execution_count": 0,
   "metadata": {
    "application/vnd.databricks.v1+cell": {
     "cellMetadata": {
      "byteLimit": 2048000,
      "rowLimit": 10000
     },
     "inputWidgets": {},
     "nuid": "2a88232d-5a86-422b-8207-6b773cf67007",
     "showTitle": false,
     "title": ""
    }
   },
   "outputs": [
    {
     "output_type": "stream",
     "name": "stdout",
     "output_type": "stream",
     "text": [
      "+---+------+------+--------+------+---------+-----------+-----------------+\n|age|gender|   bmi|children|smoker|   region|    charges|         features|\n+---+------+------+--------+------+---------+-----------+-----------------+\n| 19|female|  27.9|       0|   yes|southwest|  16884.924|  [19.0,27.9,0.0]|\n| 18|  male| 33.77|       1|    no|southeast|  1725.5523| [18.0,33.77,1.0]|\n| 28|  male|  33.0|       3|    no|southeast|   4449.462|  [28.0,33.0,3.0]|\n| 33|  male|22.705|       0|    no|northwest|21984.47061|[33.0,22.705,0.0]|\n| 32|  male| 28.88|       0|    no|northwest|  3866.8552| [32.0,28.88,0.0]|\n| 31|female| 25.74|       0|    no|southeast|  3756.6216| [31.0,25.74,0.0]|\n| 46|female| 33.44|       1|    no|southeast|  8240.5896| [46.0,33.44,1.0]|\n| 37|female| 27.74|       3|    no|northwest|  7281.5056| [37.0,27.74,3.0]|\n| 37|  male| 29.83|       2|    no|northeast|  6406.4107| [37.0,29.83,2.0]|\n| 60|female| 25.84|       0|    no|northwest|28923.13692| [60.0,25.84,0.0]|\n| 25|  male| 26.22|       0|    no|northeast|  2721.3208| [25.0,26.22,0.0]|\n| 62|female| 26.29|       0|   yes|southeast| 27808.7251| [62.0,26.29,0.0]|\n| 23|  male|  34.4|       0|    no|southwest|   1826.843|  [23.0,34.4,0.0]|\n| 56|female| 39.82|       0|    no|southeast| 11090.7178| [56.0,39.82,0.0]|\n| 27|  male| 42.13|       0|   yes|southeast| 39611.7577| [27.0,42.13,0.0]|\n| 19|  male|  24.6|       1|    no|southwest|   1837.237|  [19.0,24.6,1.0]|\n| 52|female| 30.78|       1|    no|northeast| 10797.3362| [52.0,30.78,1.0]|\n| 23|  male|23.845|       0|    no|northeast| 2395.17155|[23.0,23.845,0.0]|\n| 56|  male|  40.3|       0|    no|southwest|  10602.385|  [56.0,40.3,0.0]|\n| 30|  male|  35.3|       0|   yes|southwest|  36837.467|  [30.0,35.3,0.0]|\n+---+------+------+--------+------+---------+-----------+-----------------+\nonly showing top 20 rows\n\n"
     ]
    }
   ],
   "source": [
    "output.show()"
   ]
  },
  {
   "cell_type": "code",
   "execution_count": 0,
   "metadata": {
    "application/vnd.databricks.v1+cell": {
     "cellMetadata": {
      "byteLimit": 2048000,
      "rowLimit": 10000
     },
     "inputWidgets": {},
     "nuid": "eee34ff4-2c9d-4885-a5f0-60d39c54f40d",
     "showTitle": false,
     "title": ""
    }
   },
   "outputs": [
    {
     "output_type": "stream",
     "name": "stdout",
     "output_type": "stream",
     "text": [
      "+-----------------+-----------+\n|features         |charges    |\n+-----------------+-----------+\n|[19.0,27.9,0.0]  |16884.924  |\n|[18.0,33.77,1.0] |1725.5523  |\n|[28.0,33.0,3.0]  |4449.462   |\n|[33.0,22.705,0.0]|21984.47061|\n|[32.0,28.88,0.0] |3866.8552  |\n|[31.0,25.74,0.0] |3756.6216  |\n|[46.0,33.44,1.0] |8240.5896  |\n|[37.0,27.74,3.0] |7281.5056  |\n|[37.0,29.83,2.0] |6406.4107  |\n|[60.0,25.84,0.0] |28923.13692|\n|[25.0,26.22,0.0] |2721.3208  |\n|[62.0,26.29,0.0] |27808.7251 |\n|[23.0,34.4,0.0]  |1826.843   |\n|[56.0,39.82,0.0] |11090.7178 |\n|[27.0,42.13,0.0] |39611.7577 |\n|[19.0,24.6,1.0]  |1837.237   |\n|[52.0,30.78,1.0] |10797.3362 |\n|[23.0,23.845,0.0]|2395.17155 |\n|[56.0,40.3,0.0]  |10602.385  |\n|[30.0,35.3,0.0]  |36837.467  |\n+-----------------+-----------+\nonly showing top 20 rows\n\n"
     ]
    }
   ],
   "source": [
    "output.select('features','charges').show(truncate=False)"
   ]
  },
  {
   "cell_type": "code",
   "execution_count": 0,
   "metadata": {
    "application/vnd.databricks.v1+cell": {
     "cellMetadata": {
      "byteLimit": 2048000,
      "rowLimit": 10000
     },
     "inputWidgets": {},
     "nuid": "20557197-004c-46fa-b883-579e60ce9fb0",
     "showTitle": false,
     "title": ""
    }
   },
   "outputs": [],
   "source": [
    "final = output.select('features','charges')"
   ]
  },
  {
   "cell_type": "code",
   "execution_count": 0,
   "metadata": {
    "application/vnd.databricks.v1+cell": {
     "cellMetadata": {
      "byteLimit": 2048000,
      "rowLimit": 10000
     },
     "inputWidgets": {},
     "nuid": "e4926b20-95ac-4bfd-abe8-00e4a8ed72da",
     "showTitle": false,
     "title": ""
    }
   },
   "outputs": [
    {
     "output_type": "stream",
     "name": "stdout",
     "output_type": "stream",
     "text": [
      "+-----------------+-----------+\n|         features|    charges|\n+-----------------+-----------+\n|  [19.0,27.9,0.0]|  16884.924|\n| [18.0,33.77,1.0]|  1725.5523|\n|  [28.0,33.0,3.0]|   4449.462|\n|[33.0,22.705,0.0]|21984.47061|\n| [32.0,28.88,0.0]|  3866.8552|\n| [31.0,25.74,0.0]|  3756.6216|\n| [46.0,33.44,1.0]|  8240.5896|\n| [37.0,27.74,3.0]|  7281.5056|\n| [37.0,29.83,2.0]|  6406.4107|\n| [60.0,25.84,0.0]|28923.13692|\n| [25.0,26.22,0.0]|  2721.3208|\n| [62.0,26.29,0.0]| 27808.7251|\n|  [23.0,34.4,0.0]|   1826.843|\n| [56.0,39.82,0.0]| 11090.7178|\n| [27.0,42.13,0.0]| 39611.7577|\n|  [19.0,24.6,1.0]|   1837.237|\n| [52.0,30.78,1.0]| 10797.3362|\n|[23.0,23.845,0.0]| 2395.17155|\n|  [56.0,40.3,0.0]|  10602.385|\n|  [30.0,35.3,0.0]|  36837.467|\n+-----------------+-----------+\nonly showing top 20 rows\n\n"
     ]
    }
   ],
   "source": [
    "final.show()"
   ]
  },
  {
   "cell_type": "code",
   "execution_count": 0,
   "metadata": {
    "application/vnd.databricks.v1+cell": {
     "cellMetadata": {
      "byteLimit": 2048000,
      "rowLimit": 10000
     },
     "inputWidgets": {},
     "nuid": "ad3145e9-06f5-463d-bfb5-8505ef73ac4c",
     "showTitle": false,
     "title": ""
    }
   },
   "outputs": [],
   "source": [
    "train,test = final.randomSplit([0.7,0.3])"
   ]
  },
  {
   "cell_type": "code",
   "execution_count": 0,
   "metadata": {
    "application/vnd.databricks.v1+cell": {
     "cellMetadata": {
      "byteLimit": 2048000,
      "rowLimit": 10000
     },
     "inputWidgets": {},
     "nuid": "0fa65309-47a9-47e0-a2cf-8fac436d28fa",
     "showTitle": false,
     "title": ""
    }
   },
   "outputs": [
    {
     "output_type": "stream",
     "name": "stdout",
     "output_type": "stream",
     "text": [
      "Out[40]: 925"
     ]
    }
   ],
   "source": [
    "train.count()"
   ]
  },
  {
   "cell_type": "code",
   "execution_count": 0,
   "metadata": {
    "application/vnd.databricks.v1+cell": {
     "cellMetadata": {
      "byteLimit": 2048000,
      "rowLimit": 10000
     },
     "inputWidgets": {},
     "nuid": "0fe3cf0c-eab7-4f62-9f74-0e002bdbcdaa",
     "showTitle": false,
     "title": ""
    }
   },
   "outputs": [
    {
     "output_type": "stream",
     "name": "stdout",
     "output_type": "stream",
     "text": [
      "Out[41]: 413"
     ]
    }
   ],
   "source": [
    "test.count()"
   ]
  },
  {
   "cell_type": "code",
   "execution_count": 0,
   "metadata": {
    "application/vnd.databricks.v1+cell": {
     "cellMetadata": {
      "byteLimit": 2048000,
      "rowLimit": 10000
     },
     "inputWidgets": {},
     "nuid": "2ee4ee7a-5f26-44de-96ac-f2c82142cfa9",
     "showTitle": false,
     "title": ""
    }
   },
   "outputs": [],
   "source": [
    "from pyspark.ml.regression import LinearRegression"
   ]
  },
  {
   "cell_type": "code",
   "execution_count": 0,
   "metadata": {
    "application/vnd.databricks.v1+cell": {
     "cellMetadata": {
      "byteLimit": 2048000,
      "rowLimit": 10000
     },
     "inputWidgets": {},
     "nuid": "60000d11-58a7-4cde-b8b7-7b11efde3885",
     "showTitle": false,
     "title": ""
    }
   },
   "outputs": [],
   "source": [
    "lr = LinearRegression(featuresCol=\"features\",labelCol=\"charges\")"
   ]
  },
  {
   "cell_type": "code",
   "execution_count": 0,
   "metadata": {
    "application/vnd.databricks.v1+cell": {
     "cellMetadata": {
      "byteLimit": 2048000,
      "rowLimit": 10000
     },
     "inputWidgets": {},
     "nuid": "8f92f30b-b9bb-45b4-88bf-90490eddc07d",
     "showTitle": false,
     "title": ""
    }
   },
   "outputs": [],
   "source": [
    "trained_model = lr.fit(train)"
   ]
  },
  {
   "cell_type": "code",
   "execution_count": 0,
   "metadata": {
    "application/vnd.databricks.v1+cell": {
     "cellMetadata": {
      "byteLimit": 2048000,
      "rowLimit": 10000
     },
     "inputWidgets": {},
     "nuid": "20d8240b-299f-4cc4-8d6e-f9a687a31534",
     "showTitle": false,
     "title": ""
    }
   },
   "outputs": [
    {
     "output_type": "stream",
     "name": "stdout",
     "output_type": "stream",
     "text": [
      "Out[45]: LinearRegressionModel: uid=LinearRegression_076a75a94c75, numFeatures=3"
     ]
    }
   ],
   "source": [
    "trained_model"
   ]
  },
  {
   "cell_type": "code",
   "execution_count": 0,
   "metadata": {
    "application/vnd.databricks.v1+cell": {
     "cellMetadata": {
      "byteLimit": 2048000,
      "rowLimit": 10000
     },
     "inputWidgets": {},
     "nuid": "68493fa1-9843-4953-a9b9-b2fe0e638241",
     "showTitle": false,
     "title": ""
    }
   },
   "outputs": [
    {
     "output_type": "stream",
     "name": "stdout",
     "output_type": "stream",
     "text": [
      "Out[47]: -7890.359979949355"
     ]
    }
   ],
   "source": [
    "trained_model.intercept"
   ]
  },
  {
   "cell_type": "code",
   "execution_count": 0,
   "metadata": {
    "application/vnd.databricks.v1+cell": {
     "cellMetadata": {
      "byteLimit": 2048000,
      "rowLimit": 10000
     },
     "inputWidgets": {},
     "nuid": "f006efe4-a032-4d66-8e3a-2a627471bc51",
     "showTitle": false,
     "title": ""
    }
   },
   "outputs": [
    {
     "output_type": "stream",
     "name": "stdout",
     "output_type": "stream",
     "text": [
      "Out[48]: DenseVector([230.4378, 392.2971, 200.3792])"
     ]
    }
   ],
   "source": [
    "trained_model.coefficients"
   ]
  },
  {
   "cell_type": "code",
   "execution_count": 0,
   "metadata": {
    "application/vnd.databricks.v1+cell": {
     "cellMetadata": {
      "byteLimit": 2048000,
      "rowLimit": 10000
     },
     "inputWidgets": {},
     "nuid": "208499ff-e1b1-4ad2-b8d8-1ca5c9b6a706",
     "showTitle": false,
     "title": ""
    }
   },
   "outputs": [],
   "source": [
    "predictions = trained_model.evaluate(train)"
   ]
  },
  {
   "cell_type": "code",
   "execution_count": 0,
   "metadata": {
    "application/vnd.databricks.v1+cell": {
     "cellMetadata": {
      "byteLimit": 2048000,
      "rowLimit": 10000
     },
     "inputWidgets": {},
     "nuid": "750808f1-c188-4e12-b268-b49b77261c28",
     "showTitle": false,
     "title": ""
    }
   },
   "outputs": [
    {
     "output_type": "stream",
     "name": "stdout",
     "output_type": "stream",
     "text": [
      "0.11706042381867132\n"
     ]
    }
   ],
   "source": [
    "print(predictions.r2)"
   ]
  },
  {
   "cell_type": "code",
   "execution_count": 0,
   "metadata": {
    "application/vnd.databricks.v1+cell": {
     "cellMetadata": {
      "byteLimit": 2048000,
      "rowLimit": 10000
     },
     "inputWidgets": {},
     "nuid": "88eb0f24-3ec3-4cba-b05a-69d0fc9110b4",
     "showTitle": false,
     "title": ""
    }
   },
   "outputs": [
    {
     "output_type": "stream",
     "name": "stdout",
     "output_type": "stream",
     "text": [
      "Out[51]: 133152751.00669008"
     ]
    }
   ],
   "source": [
    "predictions.meanSquaredError"
   ]
  },
  {
   "cell_type": "code",
   "execution_count": 0,
   "metadata": {
    "application/vnd.databricks.v1+cell": {
     "cellMetadata": {
      "byteLimit": 2048000,
      "rowLimit": 10000
     },
     "inputWidgets": {},
     "nuid": "0fb253fe-952b-48a6-aa19-7abad0743b4f",
     "showTitle": false,
     "title": ""
    }
   },
   "outputs": [
    {
     "output_type": "stream",
     "name": "stdout",
     "output_type": "stream",
     "text": [
      "Out[52]: 9134.641708005716"
     ]
    }
   ],
   "source": [
    "predictions.meanAbsoluteError"
   ]
  },
  {
   "cell_type": "code",
   "execution_count": 0,
   "metadata": {
    "application/vnd.databricks.v1+cell": {
     "cellMetadata": {
      "byteLimit": 2048000,
      "rowLimit": 10000
     },
     "inputWidgets": {},
     "nuid": "cbfe3b4a-9ae2-41a6-934f-9aaa5c70bc2c",
     "showTitle": false,
     "title": ""
    }
   },
   "outputs": [],
   "source": [
    "main_predictions = trained_model.evaluate(test)"
   ]
  },
  {
   "cell_type": "code",
   "execution_count": 0,
   "metadata": {
    "application/vnd.databricks.v1+cell": {
     "cellMetadata": {
      "byteLimit": 2048000,
      "rowLimit": 10000
     },
     "inputWidgets": {},
     "nuid": "39c866a6-dc72-46c9-bae9-7335c231af57",
     "showTitle": false,
     "title": ""
    }
   },
   "outputs": [
    {
     "output_type": "stream",
     "name": "stdout",
     "output_type": "stream",
     "text": [
      "Out[54]: 0.11807445484369261"
     ]
    }
   ],
   "source": [
    "main_predictions.r2"
   ]
  },
  {
   "cell_type": "code",
   "execution_count": 0,
   "metadata": {
    "application/vnd.databricks.v1+cell": {
     "cellMetadata": {
      "byteLimit": 2048000,
      "rowLimit": 10000
     },
     "inputWidgets": {},
     "nuid": "b678620f-6298-4319-889b-3f00525036ff",
     "showTitle": false,
     "title": ""
    }
   },
   "outputs": [
    {
     "output_type": "stream",
     "name": "stdout",
     "output_type": "stream",
     "text": [
      "Out[55]: 8943.692471593364"
     ]
    }
   ],
   "source": [
    "main_predictions.meanAbsoluteError"
   ]
  },
  {
   "cell_type": "code",
   "execution_count": 0,
   "metadata": {
    "application/vnd.databricks.v1+cell": {
     "cellMetadata": {
      "byteLimit": 2048000,
      "rowLimit": 10000
     },
     "inputWidgets": {},
     "nuid": "791dd8b8-fc23-456f-a8eb-f058d7d72a40",
     "showTitle": false,
     "title": ""
    }
   },
   "outputs": [
    {
     "output_type": "stream",
     "name": "stdout",
     "output_type": "stream",
     "text": [
      "Out[56]: 120578344.13161448"
     ]
    }
   ],
   "source": [
    "main_predictions.meanSquaredError"
   ]
  }
 ],
 "metadata": {
  "application/vnd.databricks.v1+notebook": {
   "dashboards": [],
   "environmentMetadata": null,
   "language": "python",
   "notebookMetadata": {
    "pythonIndentUnit": 4
   },
   "notebookName": "Linear Regression",
   "widgets": {}
  }
 },
 "nbformat": 4,
 "nbformat_minor": 0
}
